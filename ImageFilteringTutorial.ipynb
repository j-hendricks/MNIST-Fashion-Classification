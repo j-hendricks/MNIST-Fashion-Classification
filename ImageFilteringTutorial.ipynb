{
  "nbformat": 4,
  "nbformat_minor": 0,
  "metadata": {
    "colab": {
      "provenance": [],
      "collapsed_sections": []
    },
    "kernelspec": {
      "name": "python3",
      "display_name": "Python 3"
    },
    "language_info": {
      "name": "python"
    },
    "accelerator": "GPU",
    "gpuClass": "standard"
  },
  "cells": [
    {
      "cell_type": "code",
      "execution_count": null,
      "metadata": {
        "id": "fszCArHoXpa-"
      },
      "outputs": [],
      "source": [
        "import cv2\n",
        "import numpy as np\n",
        "from scipy import misc"
      ]
    },
    {
      "cell_type": "code",
      "source": [
        "import matplotlib.pyplot as plt\n",
        "import tensorflow as tf"
      ],
      "metadata": {
        "id": "CUgnC4g1Xzeo"
      },
      "execution_count": null,
      "outputs": []
    },
    {
      "cell_type": "code",
      "source": [
        "mnist = tf.keras.datasets.fashion_mnist"
      ],
      "metadata": {
        "id": "hbcY7SzKYEHF"
      },
      "execution_count": null,
      "outputs": []
    },
    {
      "cell_type": "code",
      "source": [
        "(training_images, training_labels),(test_images, test_labels) = mnist.load_data()"
      ],
      "metadata": {
        "id": "rzxsolnlYSdm"
      },
      "execution_count": null,
      "outputs": []
    },
    {
      "cell_type": "code",
      "source": [
        "target_image_index = 5\n",
        "target_image = training_images[target_image_index]\n",
        "plt.imshow(target_image)"
      ],
      "metadata": {
        "colab": {
          "base_uri": "https://localhost:8080/",
          "height": 283
        },
        "id": "h3ywR12xYWTV",
        "outputId": "204888c3-e16b-46f8-9dbf-75f6954da540"
      },
      "execution_count": null,
      "outputs": [
        {
          "output_type": "execute_result",
          "data": {
            "text/plain": [
              "<matplotlib.image.AxesImage at 0x7fa15c56e550>"
            ]
          },
          "metadata": {},
          "execution_count": 5
        },
        {
          "output_type": "display_data",
          "data": {
            "text/plain": [
              "<Figure size 432x288 with 1 Axes>"
            ],
            "image/png": "[encoded data removed]"
          },
          "metadata": {
            "needs_background": "light"
          }
        }
      ]
    },
    {
      "cell_type": "code",
      "source": [
        "image_transformed = np.copy(target_image)\n",
        "size_x = image_transformed.shape[0]\n",
        "size_y = image_transformed.shape[1]"
      ],
      "metadata": {
        "id": "Dm8-_c_yYbvM"
      },
      "execution_count": null,
      "outputs": []
    },
    {
      "cell_type": "code",
      "source": [
        "filter = [[0,1,0], [1,-4,1], [0,1,0]]\n",
        "weight = 1"
      ],
      "metadata": {
        "id": "gvJk1bTuYzzI"
      },
      "execution_count": null,
      "outputs": []
    },
    {
      "cell_type": "code",
      "source": [
        "# code from tutorial: https://developers.google.com/codelabs/tensorflow-3-convolutions#7\n",
        "for x in range(1, size_x - 1):\n",
        "  for y in range(1, size_y-1):\n",
        "      convolution = 0.0\n",
        "      convolution = convolution + (target_image[x - 1, y-1] * filter[0][0])\n",
        "      convolution = convolution + (target_image[x, y-1] * filter[0][1])\n",
        "      convolution = convolution + (target_image[x + 1, y-1] * filter[0][2])\n",
        "      convolution = convolution + (target_image[x-1, y] * filter[1][0])\n",
        "      convolution = convolution + (target_image[x, y] * filter[1][1])\n",
        "      convolution = convolution + (target_image[x+1, y] * filter[1][2])\n",
        "      convolution = convolution + (target_image[x-1, y+1] * filter[2][0])\n",
        "      convolution = convolution + (target_image[x, y+1] * filter[2][1])\n",
        "      convolution = convolution + (target_image[x+1, y+1] * filter[2][2])\n",
        "      convolution = convolution * weight\n",
        "      if(convolution<0):\n",
        "        convolution=0\n",
        "      if(convolution>255):\n",
        "        convolution=255\n",
        "      image_transformed[x, y] = convolution\n"
      ],
      "metadata": {
        "id": "o03I33zrZHr_"
      },
      "execution_count": null,
      "outputs": []
    },
    {
      "cell_type": "code",
      "source": [
        "plt.imshow(image_transformed)"
      ],
      "metadata": {
        "colab": {
          "base_uri": "https://localhost:8080/",
          "height": 283
        },
        "id": "ud2q9vhMZa4U",
        "outputId": "3d55f9b8-0503-43e5-ff7e-b6fe098ce495"
      },
      "execution_count": null,
      "outputs": [
        {
          "output_type": "execute_result",
          "data": {
            "text/plain": [
              "<matplotlib.image.AxesImage at 0x7fa15c05f850>"
            ]
          },
          "metadata": {},
          "execution_count": 9
        },
        {
          "output_type": "display_data",
          "data": {
            "text/plain": [
              "<Figure size 432x288 with 1 Axes>"
            ],
            "image/png": "[encoded data removed]"
          },
          "metadata": {
            "needs_background": "light"
          }
        }
      ]
    },
    {
      "cell_type": "code",
      "source": [
        "# code from tutorial: https://developers.google.com/codelabs/tensorflow-3-convolutions#7\n",
        "new_x = int(size_x/2)\n",
        "new_y = int(size_y/2)\n",
        "newImage = np.zeros((new_x, new_y))\n",
        "for x in range(0, size_x, 2):\n",
        "  for y in range(0, size_y, 2):\n",
        "    pixels = []\n",
        "    pixels.append(image_transformed[x, y])\n",
        "    pixels.append(image_transformed[x+1, y])\n",
        "    pixels.append(image_transformed[x, y+1])\n",
        "    pixels.append(image_transformed[x+1, y+1])\n",
        "    pixels.sort(reverse=True)\n",
        "    newImage[int(x/2),int(y/2)] = pixels[0]"
      ],
      "metadata": {
        "id": "5SFtVsw_cfSk"
      },
      "execution_count": null,
      "outputs": []
    },
    {
      "cell_type": "code",
      "source": [
        "plt.imshow(newImage)"
      ],
      "metadata": {
        "colab": {
          "base_uri": "https://localhost:8080/",
          "height": 283
        },
        "id": "VItkjwkadtvH",
        "outputId": "17221d21-b671-47bc-92e2-ff0883d33ebb"
      },
      "execution_count": null,
      "outputs": [
        {
          "output_type": "execute_result",
          "data": {
            "text/plain": [
              "<matplotlib.image.AxesImage at 0x7fa15c054a10>"
            ]
          },
          "metadata": {},
          "execution_count": 11
        },
        {
          "output_type": "display_data",
          "data": {
            "text/plain": [
              "<Figure size 432x288 with 1 Axes>"
            ],
            "image/png": "[encoded data removed]"
          },
          "metadata": {
            "needs_background": "light"
          }
        }
      ]
    },
    {
      "cell_type": "code",
      "source": [],
      "metadata": {
        "id": "GJoNioa4dxNf"
      },
      "execution_count": null,
      "outputs": []
    }
  ]
}