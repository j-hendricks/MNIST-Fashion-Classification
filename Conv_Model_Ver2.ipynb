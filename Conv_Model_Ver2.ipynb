{
  "cells": [
    {
      "cell_type": "code",
      "source": [
        "# import relevant packages\n",
        "import tensorflow as tf\n",
        "import matplotlib.pyplot as plt"
      ],
      "metadata": {
        "id": "Cp-P9xCRAg28"
      },
      "execution_count": 1,
      "outputs": []
    },
    {
      "cell_type": "code",
      "execution_count": 2,
      "metadata": {
        "id": "sfQRyaJWAIdg"
      },
      "outputs": [],
      "source": [
        "\n",
        "# create a class that will stop the model after it reaches 99% accuracy\n",
        "# this type of object is know as a callback\n",
        "class SimpleCallback(tf.keras.callbacks.Callback):\n",
        "  def on_epoch_end(self, epoch, logs={}):\n",
        "    if(logs.get('accuracy')>0.99):\n",
        "      print(\"\\nReached 99% accuracy so cancelling training!\")\n",
        "      self.model.stop_training = True\n"
      ]
    },
    {
      "cell_type": "code",
      "source": [
        "# load data from tensorflow\n",
        "mnist = tf.keras.datasets.fashion_mnist\n",
        "(training_images, training_labels), (test_images, test_labels) = mnist.load_data()"
      ],
      "metadata": {
        "id": "jhOZUpgK96Lm",
        "colab": {
          "base_uri": "https://localhost:8080/"
        },
        "outputId": "18c3b677-6a8e-4f65-fc7f-7f94507f89ab"
      },
      "execution_count": 3,
      "outputs": [
        {
          "output_type": "stream",
          "name": "stdout",
          "text": [
            "Downloading data from https://storage.googleapis.com/tensorflow/tf-keras-datasets/train-labels-idx1-ubyte.gz\n",
            "32768/29515 [=================================] - 0s 0us/step\n",
            "40960/29515 [=========================================] - 0s 0us/step\n",
            "Downloading data from https://storage.googleapis.com/tensorflow/tf-keras-datasets/train-images-idx3-ubyte.gz\n",
            "26427392/26421880 [==============================] - 0s 0us/step\n",
            "26435584/26421880 [==============================] - 0s 0us/step\n",
            "Downloading data from https://storage.googleapis.com/tensorflow/tf-keras-datasets/t10k-labels-idx1-ubyte.gz\n",
            "16384/5148 [===============================================================================================] - 0s 0us/step\n",
            "Downloading data from https://storage.googleapis.com/tensorflow/tf-keras-datasets/t10k-images-idx3-ubyte.gz\n",
            "4423680/4422102 [==============================] - 0s 0us/step\n",
            "4431872/4422102 [==============================] - 0s 0us/step\n"
          ]
        }
      ]
    },
    {
      "cell_type": "code",
      "source": [
        "# plot images to make sure dataset is correct\n",
        "plt.imshow(training_images[0])"
      ],
      "metadata": {
        "colab": {
          "base_uri": "https://localhost:8080/",
          "height": 283
        },
        "id": "vIdTuKoAEWX6",
        "outputId": "ca30cc41-9d3d-4234-b21e-27ee092833ec"
      },
      "execution_count": 4,
      "outputs": [
        {
          "output_type": "execute_result",
          "data": {
            "text/plain": [
              "<matplotlib.image.AxesImage at 0x7fd38e33a450>"
            ]
          },
          "metadata": {},
          "execution_count": 4
        },
        {
          "output_type": "display_data",
          "data": {
            "text/plain": [
              "<Figure size 432x288 with 1 Axes>"
            ],
            "image/png": "[encoded data removed]"
          },
          "metadata": {
            "needs_background": "light"
          }
        }
      ]
    },
    {
      "cell_type": "code",
      "source": [
        "# must reshape and normalize image\n",
        "training_images = training_images.reshape(60000, 28, 28, 1) / 255.0\n",
        "test_images = test_images.reshape(10000, 28, 28, 1) / 255.0\n"
      ],
      "metadata": {
        "id": "_esNgmbG956D"
      },
      "execution_count": 5,
      "outputs": []
    },
    {
      "cell_type": "code",
      "source": [
        "# create instance of the callback\n",
        "callbacks = SimpleCallback()"
      ],
      "metadata": {
        "id": "lTIYliPA95mO"
      },
      "execution_count": 6,
      "outputs": []
    },
    {
      "cell_type": "code",
      "source": [
        "# This time, the model has only one convolutional layer, but with twice the number of filters (128 vs 64)\n",
        "# Dense layer was increased to 256\n",
        "model = tf.keras.models.Sequential([\n",
        "\n",
        "    tf.keras.layers.Conv2D(128, (3,3), activation='relu', input_shape = (28, 28, 1)),\n",
        "    tf.keras.layers.MaxPooling2D(2,2),\n",
        "    tf.keras.layers.Flatten(),\n",
        "    tf.keras.layers.Dense(256, activation ='relu'),\n",
        "    tf.keras.layers.Dense(10, activation ='softmax')\n",
        "\n",
        "])"
      ],
      "metadata": {
        "id": "ytjYx6r4-FTr"
      },
      "execution_count": 7,
      "outputs": []
    },
    {
      "cell_type": "code",
      "source": [
        "# to the fit function, add callback object as an argument\n",
        "# model stops before 20 epochs because it will reach 99% accuracy before then\n",
        "model.compile(optimizer='adam', loss='sparse_categorical_crossentropy', metrics =['accuracy'])\n",
        "model.fit(training_images, training_labels, epochs = 20, callbacks = [callbacks])"
      ],
      "metadata": {
        "colab": {
          "base_uri": "https://localhost:8080/"
        },
        "id": "u0CcBJ83-G0p",
        "outputId": "8edd0ac8-0d32-4a31-f071-387fb2e6bbb2"
      },
      "execution_count": 8,
      "outputs": [
        {
          "output_type": "stream",
          "name": "stdout",
          "text": [
            "Epoch 1/20\n",
            "1875/1875 [==============================] - 20s 4ms/step - loss: 0.3553 - accuracy: 0.8727\n",
            "Epoch 2/20\n",
            "1875/1875 [==============================] - 7s 4ms/step - loss: 0.2370 - accuracy: 0.9120\n",
            "Epoch 3/20\n",
            "1875/1875 [==============================] - 7s 4ms/step - loss: 0.1864 - accuracy: 0.9297\n",
            "Epoch 4/20\n",
            "1875/1875 [==============================] - 7s 4ms/step - loss: 0.1465 - accuracy: 0.9447\n",
            "Epoch 5/20\n",
            "1875/1875 [==============================] - 7s 4ms/step - loss: 0.1159 - accuracy: 0.9564\n",
            "Epoch 6/20\n",
            "1875/1875 [==============================] - 8s 4ms/step - loss: 0.0911 - accuracy: 0.9656\n",
            "Epoch 7/20\n",
            "1875/1875 [==============================] - 8s 4ms/step - loss: 0.0725 - accuracy: 0.9727\n",
            "Epoch 8/20\n",
            "1875/1875 [==============================] - 7s 4ms/step - loss: 0.0574 - accuracy: 0.9789\n",
            "Epoch 9/20\n",
            "1875/1875 [==============================] - 7s 4ms/step - loss: 0.0443 - accuracy: 0.9843\n",
            "Epoch 10/20\n",
            "1875/1875 [==============================] - 7s 4ms/step - loss: 0.0397 - accuracy: 0.9858\n",
            "Epoch 11/20\n",
            "1875/1875 [==============================] - 7s 4ms/step - loss: 0.0346 - accuracy: 0.9877\n",
            "Epoch 12/20\n",
            "1871/1875 [============================>.] - ETA: 0s - loss: 0.0266 - accuracy: 0.9911\n",
            "Reached 99% accuracy so cancelling training!\n",
            "1875/1875 [==============================] - 7s 4ms/step - loss: 0.0266 - accuracy: 0.9911\n"
          ]
        },
        {
          "output_type": "execute_result",
          "data": {
            "text/plain": [
              "<keras.callbacks.History at 0x7fd38023c8d0>"
            ]
          },
          "metadata": {},
          "execution_count": 8
        }
      ]
    },
    {
      "cell_type": "code",
      "source": [
        "model.evaluate(test_images, test_labels)"
      ],
      "metadata": {
        "colab": {
          "base_uri": "https://localhost:8080/"
        },
        "id": "MWbn4qf-9yJb",
        "outputId": "2c529aed-2fda-4614-f482-7bb564ded047"
      },
      "execution_count": 9,
      "outputs": [
        {
          "output_type": "stream",
          "name": "stdout",
          "text": [
            "313/313 [==============================] - 1s 3ms/step - loss: 0.4630 - accuracy: 0.9158\n"
          ]
        },
        {
          "output_type": "execute_result",
          "data": {
            "text/plain": [
              "[0.4629514217376709, 0.9157999753952026]"
            ]
          },
          "metadata": {},
          "execution_count": 9
        }
      ]
    },
    {
      "cell_type": "code",
      "source": [
        "# make clone of previous model\n",
        "model2 = tf.keras.models.clone_model(model)"
      ],
      "metadata": {
        "id": "ZBLcnjxD_IDD"
      },
      "execution_count": 10,
      "outputs": []
    },
    {
      "cell_type": "code",
      "source": [
        "# no callback this time, so all 20 epochs will occur\n",
        "model2.compile(optimizer='adam', loss='sparse_categorical_crossentropy', metrics =['accuracy'])\n",
        "history = model2.fit(training_images, training_labels, epochs = 20, validation_data = (test_images, test_labels))"
      ],
      "metadata": {
        "colab": {
          "base_uri": "https://localhost:8080/"
        },
        "id": "bwahXkwt_IyQ",
        "outputId": "f29b3cb9-10bd-4f79-dff1-3539726a8d70"
      },
      "execution_count": 11,
      "outputs": [
        {
          "output_type": "stream",
          "name": "stdout",
          "text": [
            "Epoch 1/20\n",
            "1875/1875 [==============================] - 9s 5ms/step - loss: 0.3536 - accuracy: 0.8727 - val_loss: 0.2956 - val_accuracy: 0.8918\n",
            "Epoch 2/20\n",
            "1875/1875 [==============================] - 8s 4ms/step - loss: 0.2323 - accuracy: 0.9148 - val_loss: 0.2811 - val_accuracy: 0.9003\n",
            "Epoch 3/20\n",
            "1875/1875 [==============================] - 8s 4ms/step - loss: 0.1838 - accuracy: 0.9304 - val_loss: 0.2590 - val_accuracy: 0.9075\n",
            "Epoch 4/20\n",
            "1875/1875 [==============================] - 9s 5ms/step - loss: 0.1462 - accuracy: 0.9465 - val_loss: 0.2504 - val_accuracy: 0.9150\n",
            "Epoch 5/20\n",
            "1875/1875 [==============================] - 8s 4ms/step - loss: 0.1152 - accuracy: 0.9567 - val_loss: 0.2569 - val_accuracy: 0.9180\n",
            "Epoch 6/20\n",
            "1875/1875 [==============================] - 8s 4ms/step - loss: 0.0894 - accuracy: 0.9673 - val_loss: 0.2827 - val_accuracy: 0.9155\n",
            "Epoch 7/20\n",
            "1875/1875 [==============================] - 9s 5ms/step - loss: 0.0680 - accuracy: 0.9747 - val_loss: 0.3287 - val_accuracy: 0.9150\n",
            "Epoch 8/20\n",
            "1875/1875 [==============================] - 8s 4ms/step - loss: 0.0546 - accuracy: 0.9799 - val_loss: 0.3707 - val_accuracy: 0.9103\n",
            "Epoch 9/20\n",
            "1875/1875 [==============================] - 9s 5ms/step - loss: 0.0465 - accuracy: 0.9833 - val_loss: 0.3755 - val_accuracy: 0.9199\n",
            "Epoch 10/20\n",
            "1875/1875 [==============================] - 9s 5ms/step - loss: 0.0370 - accuracy: 0.9869 - val_loss: 0.3950 - val_accuracy: 0.9186\n",
            "Epoch 11/20\n",
            "1875/1875 [==============================] - 9s 5ms/step - loss: 0.0290 - accuracy: 0.9902 - val_loss: 0.4424 - val_accuracy: 0.9144\n",
            "Epoch 12/20\n",
            "1875/1875 [==============================] - 8s 4ms/step - loss: 0.0282 - accuracy: 0.9901 - val_loss: 0.4562 - val_accuracy: 0.9158\n",
            "Epoch 13/20\n",
            "1875/1875 [==============================] - 9s 5ms/step - loss: 0.0223 - accuracy: 0.9920 - val_loss: 0.4916 - val_accuracy: 0.9166\n",
            "Epoch 14/20\n",
            "1875/1875 [==============================] - 9s 5ms/step - loss: 0.0213 - accuracy: 0.9928 - val_loss: 0.5384 - val_accuracy: 0.9136\n",
            "Epoch 15/20\n",
            "1875/1875 [==============================] - 9s 5ms/step - loss: 0.0190 - accuracy: 0.9934 - val_loss: 0.5355 - val_accuracy: 0.9168\n",
            "Epoch 16/20\n",
            "1875/1875 [==============================] - 8s 4ms/step - loss: 0.0163 - accuracy: 0.9945 - val_loss: 0.6318 - val_accuracy: 0.9130\n",
            "Epoch 17/20\n",
            "1875/1875 [==============================] - 9s 5ms/step - loss: 0.0178 - accuracy: 0.9941 - val_loss: 0.5988 - val_accuracy: 0.9098\n",
            "Epoch 18/20\n",
            "1875/1875 [==============================] - 8s 4ms/step - loss: 0.0131 - accuracy: 0.9960 - val_loss: 0.6060 - val_accuracy: 0.9107\n",
            "Epoch 19/20\n",
            "1875/1875 [==============================] - 8s 4ms/step - loss: 0.0160 - accuracy: 0.9947 - val_loss: 0.6231 - val_accuracy: 0.9140\n",
            "Epoch 20/20\n",
            "1875/1875 [==============================] - 8s 4ms/step - loss: 0.0116 - accuracy: 0.9961 - val_loss: 0.6745 - val_accuracy: 0.9149\n"
          ]
        }
      ]
    },
    {
      "cell_type": "code",
      "source": [
        "# accuracy and loss data from model2\n",
        "acc = history.history['accuracy']\n",
        "lss = history.history['loss']\n",
        "va = history.history['val_accuracy']\n",
        "vl = history.history['val_loss']"
      ],
      "metadata": {
        "id": "zwZ8X3YYAXsk"
      },
      "execution_count": 12,
      "outputs": []
    },
    {
      "cell_type": "code",
      "source": [
        "# plot results\n",
        "plt.plot(acc, label='Training Accuracy')\n",
        "plt.plot(lss, label='Training Loss')\n",
        "plt.plot(va, label='Test Accuracy')\n",
        "plt.plot(vl, label= \"Test Loss\")\n",
        "plt.legend()\n",
        "plt.title(\"Accuracy Vs Loss\")\n",
        "plt.xlabel(\"Number of Epochs\")\n",
        "plt.show()"
      ],
      "metadata": {
        "colab": {
          "base_uri": "https://localhost:8080/",
          "height": 295
        },
        "id": "tFVSufxSBinu",
        "outputId": "4b08dda9-706e-416a-98b8-ad29d9eabcdd"
      },
      "execution_count": 13,
      "outputs": [
        {
          "output_type": "display_data",
          "data": {
            "text/plain": [
              "<Figure size 432x288 with 1 Axes>"
            ],
            "image/png": "[encoded data removed]"
          },
          "metadata": {
            "needs_background": "light"
          }
        }
      ]
    },
    {
      "cell_type": "code",
      "source": [],
      "metadata": {
        "id": "KNMmjPllCi0Y"
      },
      "execution_count": 13,
      "outputs": []
    }
  ],
  "metadata": {
    "colab": {
      "collapsed_sections": [],
      "provenance": [],
      "toc_visible": true
    },
    "kernelspec": {
      "display_name": "Python 3",
      "name": "python3"
    },
    "accelerator": "GPU",
    "gpuClass": "standard"
  },
  "nbformat": 4,
  "nbformat_minor": 0
}