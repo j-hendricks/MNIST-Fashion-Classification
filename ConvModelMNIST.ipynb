{
  "nbformat": 4,
  "nbformat_minor": 0,
  "metadata": {
    "colab": {
      "provenance": [],
      "collapsed_sections": []
    },
    "kernelspec": {
      "name": "python3",
      "display_name": "Python 3"
    },
    "language_info": {
      "name": "python"
    },
    "accelerator": "GPU",
    "gpuClass": "standard"
  },
  "cells": [
    {
      "cell_type": "code",
      "execution_count": 1,
      "metadata": {
        "id": "Y6zQ5yQmp8K1"
      },
      "outputs": [],
      "source": [
        "# import relevant dependencies \n",
        "import tensorflow as tf\n",
        "import matplotlib.pyplot as plt"
      ]
    },
    {
      "cell_type": "code",
      "source": [
        "# retrieve mnist dataset from tensorflow\n",
        "mnist = tf.keras.datasets.fashion_mnist"
      ],
      "metadata": {
        "id": "ztyF6yr1qCbg"
      },
      "execution_count": 2,
      "outputs": []
    },
    {
      "cell_type": "code",
      "source": [
        "(training_images, training_labels), (test_images, test_labels) = mnist.load_data()"
      ],
      "metadata": {
        "id": "zI6FXIP-qRcL"
      },
      "execution_count": 3,
      "outputs": []
    },
    {
      "cell_type": "code",
      "source": [
        "# check shape of training data\n",
        "training_images.shape"
      ],
      "metadata": {
        "colab": {
          "base_uri": "https://localhost:8080/"
        },
        "id": "mWfDvmCoqV4w",
        "outputId": "a8d7cfa7-7b33-47c6-aeaf-87a9d83ca233"
      },
      "execution_count": 4,
      "outputs": [
        {
          "output_type": "execute_result",
          "data": {
            "text/plain": [
              "(60000, 28, 28)"
            ]
          },
          "metadata": {},
          "execution_count": 4
        }
      ]
    },
    {
      "cell_type": "code",
      "source": [
        "# reshape data such that it is a single tensor. Divide by 255 to normalize\n",
        "training_images = training_images.reshape(60000, 28, 28, 1) / 255.0"
      ],
      "metadata": {
        "id": "h1uDrz9sqb97"
      },
      "execution_count": 5,
      "outputs": []
    },
    {
      "cell_type": "code",
      "source": [
        "# check shape of test data\n",
        "test_images.shape"
      ],
      "metadata": {
        "colab": {
          "base_uri": "https://localhost:8080/"
        },
        "id": "zDBrKnvgqotY",
        "outputId": "f3960e4a-afb3-4c22-d60c-cc99d5065219"
      },
      "execution_count": 6,
      "outputs": [
        {
          "output_type": "execute_result",
          "data": {
            "text/plain": [
              "(10000, 28, 28)"
            ]
          },
          "metadata": {},
          "execution_count": 6
        }
      ]
    },
    {
      "cell_type": "code",
      "source": [
        "# same reshaping as with training data\n",
        "test_images = test_images.reshape(10000, 28, 28, 1) / 255.0"
      ],
      "metadata": {
        "id": "-_ZzqXZ6qsYQ"
      },
      "execution_count": 7,
      "outputs": []
    },
    {
      "cell_type": "code",
      "source": [
        "# create model \n",
        "model = tf.keras.models.Sequential([\n",
        "    # 64 represents the number of filters to test, (3, 3) are the dimensions for said filters\n",
        "    tf.keras.layers.Conv2D(64, (3, 3), activation='relu', input_shape=(28,28,1)),\n",
        "    tf.keras.layers.MaxPooling2D(2,2),\n",
        "    tf.keras.layers.Conv2D(64, (3, 3), activation='relu'),\n",
        "    tf.keras.layers.MaxPooling2D(2,2),\n",
        "    tf.keras.layers.Flatten(),\n",
        "    tf.keras.layers.Dense(128, activation='relu'),\n",
        "    tf.keras.layers.Dense(10, activation='softmax')\n",
        "])"
      ],
      "metadata": {
        "id": "ePXh1dpMqxvh"
      },
      "execution_count": 8,
      "outputs": []
    },
    {
      "cell_type": "code",
      "source": [
        "# compile model then summarize parameters\n",
        "model.compile(optimizer='adam', loss='sparse_categorical_crossentropy', metrics=['accuracy'])\n",
        "model.summary()"
      ],
      "metadata": {
        "colab": {
          "base_uri": "https://localhost:8080/"
        },
        "id": "AGlCTSIjr4Gw",
        "outputId": "40f1db38-073d-4b70-a1c9-09e0c4a0397a"
      },
      "execution_count": 9,
      "outputs": [
        {
          "output_type": "stream",
          "name": "stdout",
          "text": [
            "Model: \"sequential\"\n",
            "_________________________________________________________________\n",
            " Layer (type)                Output Shape              Param #   \n",
            "=================================================================\n",
            " conv2d (Conv2D)             (None, 26, 26, 64)        640       \n",
            "                                                                 \n",
            " max_pooling2d (MaxPooling2D  (None, 13, 13, 64)       0         \n",
            " )                                                               \n",
            "                                                                 \n",
            " conv2d_1 (Conv2D)           (None, 11, 11, 64)        36928     \n",
            "                                                                 \n",
            " max_pooling2d_1 (MaxPooling  (None, 5, 5, 64)         0         \n",
            " 2D)                                                             \n",
            "                                                                 \n",
            " flatten (Flatten)           (None, 1600)              0         \n",
            "                                                                 \n",
            " dense (Dense)               (None, 128)               204928    \n",
            "                                                                 \n",
            " dense_1 (Dense)             (None, 10)                1290      \n",
            "                                                                 \n",
            "=================================================================\n",
            "Total params: 243,786\n",
            "Trainable params: 243,786\n",
            "Non-trainable params: 0\n",
            "_________________________________________________________________\n"
          ]
        }
      ]
    },
    {
      "cell_type": "code",
      "source": [
        "history = model.fit(training_images, training_labels, epochs=10, validation_data=(test_images,test_labels))\n",
        "test_loss, test_accuracy = model.evaluate(test_images, test_labels)"
      ],
      "metadata": {
        "colab": {
          "base_uri": "https://localhost:8080/"
        },
        "id": "TUWQFkewsEUy",
        "outputId": "80ba79e5-3b4d-4e6c-c2e6-62a110f6afab"
      },
      "execution_count": 10,
      "outputs": [
        {
          "output_type": "stream",
          "name": "stdout",
          "text": [
            "Epoch 1/10\n",
            "1875/1875 [==============================] - 15s 6ms/step - loss: 0.4423 - accuracy: 0.8379 - val_loss: 0.3295 - val_accuracy: 0.8806\n",
            "Epoch 2/10\n",
            "1875/1875 [==============================] - 7s 4ms/step - loss: 0.2965 - accuracy: 0.8902 - val_loss: 0.3165 - val_accuracy: 0.8852\n",
            "Epoch 3/10\n",
            "1875/1875 [==============================] - 7s 4ms/step - loss: 0.2505 - accuracy: 0.9070 - val_loss: 0.2633 - val_accuracy: 0.9038\n",
            "Epoch 4/10\n",
            "1875/1875 [==============================] - 7s 4ms/step - loss: 0.2182 - accuracy: 0.9187 - val_loss: 0.2595 - val_accuracy: 0.9060\n",
            "Epoch 5/10\n",
            "1875/1875 [==============================] - 7s 4ms/step - loss: 0.1935 - accuracy: 0.9283 - val_loss: 0.2563 - val_accuracy: 0.9086\n",
            "Epoch 6/10\n",
            "1875/1875 [==============================] - 7s 4ms/step - loss: 0.1703 - accuracy: 0.9364 - val_loss: 0.2573 - val_accuracy: 0.9087\n",
            "Epoch 7/10\n",
            "1875/1875 [==============================] - 7s 4ms/step - loss: 0.1526 - accuracy: 0.9427 - val_loss: 0.2647 - val_accuracy: 0.9086\n",
            "Epoch 8/10\n",
            "1875/1875 [==============================] - 7s 4ms/step - loss: 0.1334 - accuracy: 0.9505 - val_loss: 0.2636 - val_accuracy: 0.9165\n",
            "Epoch 9/10\n",
            "1875/1875 [==============================] - 8s 4ms/step - loss: 0.1186 - accuracy: 0.9558 - val_loss: 0.2757 - val_accuracy: 0.9123\n",
            "Epoch 10/10\n",
            "1875/1875 [==============================] - 7s 4ms/step - loss: 0.1043 - accuracy: 0.9611 - val_loss: 0.2978 - val_accuracy: 0.9106\n",
            "313/313 [==============================] - 1s 3ms/step - loss: 0.2978 - accuracy: 0.9106\n"
          ]
        }
      ]
    },
    {
      "cell_type": "code",
      "source": [
        "acc = history.history['accuracy']\n",
        "lss = history.history['loss']\n",
        "va = history.history['val_accuracy']\n",
        "vl = history.history['val_loss']"
      ],
      "metadata": {
        "id": "ZPP8xKir4iTw"
      },
      "execution_count": 11,
      "outputs": []
    },
    {
      "cell_type": "code",
      "source": [
        "# Accuracy is higher compared to simple neural network. After 5 epochs, little progress is made in accuracy, \n",
        "# and loss function diverges. Adding additional epochs would result in overfitting\n",
        "plt.plot(acc, label='Training Accuracy')\n",
        "plt.plot(lss, label='Training Loss')\n",
        "plt.plot(va, label='Test Accuracy')\n",
        "plt.plot(vl, label= \"Test Loss\")\n",
        "plt.legend()\n",
        "plt.title(\"Accuracy Vs Loss\")\n",
        "plt.xlabel(\"Number of Epochs\")\n",
        "plt.show()"
      ],
      "metadata": {
        "colab": {
          "base_uri": "https://localhost:8080/",
          "height": 295
        },
        "id": "b7FBWMKH5A8z",
        "outputId": "a363c833-7624-4387-a59a-0fd911bb112b"
      },
      "execution_count": 12,
      "outputs": [
        {
          "output_type": "display_data",
          "data": {
            "text/plain": [
              "<Figure size 432x288 with 1 Axes>"
            ],
            "image/png": "[encoded data removed]"
          },
          "metadata": {
            "needs_background": "light"
          }
        }
      ]
    }
  ]
}